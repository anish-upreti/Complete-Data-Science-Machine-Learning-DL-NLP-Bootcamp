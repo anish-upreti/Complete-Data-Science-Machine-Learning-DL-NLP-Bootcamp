{
 "cells": [
  {
   "cell_type": "markdown",
   "metadata": {},
   "source": [
    "# Module: Pandas Assignments\n",
    "## Lesson: Pandas\n",
    "### Assignment 1: DataFrame Creation and Indexing\n",
    "\n",
    "1. Create a Pandas DataFrame with 4 columns and 6 rows filled with random integers. Set the index to be the first column."
   ]
  },
  {
   "cell_type": "code",
   "execution_count": 2,
   "id": "aaffae6f",
   "metadata": {},
   "outputs": [
    {
     "name": "stdout",
     "output_type": "stream",
     "text": [
      "Original DataFrame:\n",
      "   col1  col2  col3  col4\n",
      "0    44    74    26    75\n",
      "1    55    29    12    71\n",
      "2    11    24    44    33\n",
      "3    44    59    86     4\n",
      "4    92    65    34    60\n",
      "5    78    79    90    75\n",
      "DataFrame with new index:\n",
      "      col2  col3  col4\n",
      "col1                  \n",
      "44      74    26    75\n",
      "55      29    12    71\n",
      "11      24    44    33\n",
      "44      59    86     4\n",
      "92      65    34    60\n",
      "78      79    90    75\n"
     ]
    }
   ],
   "source": [
    "import pandas as pd\n",
    "import numpy as np\n",
    "\n",
    "## To create a pandas dataframe with 4 columns and 6 rows filled with random integers\n",
    "df = pd.DataFrame(np.random.randint(1, 100, size = (6, 4)), columns= [\"col1\", \"col2\", \"col3\", \"col4\"])\n",
    "print(\"Original DataFrame:\")\n",
    "print(df)\n",
    "\n",
    "## To set the index to be the first column\n",
    "df.set_index(\"col1\", inplace=True)\n",
    "print(\"DataFrame with new index:\")\n",
    "print(df)\n"
   ]
  },
  {
   "cell_type": "markdown",
   "id": "56d959dd",
   "metadata": {},
   "source": [
    "2. Create a Pandas DataFrame with columns 'A', 'B', 'C' and index 'X', 'Y', 'Z'. Fill the DataFrame with random integers and access the element at row 'Y' and column 'B'."
   ]
  },
  {
   "cell_type": "code",
   "execution_count": 3,
   "id": "8ac7659a",
   "metadata": {},
   "outputs": [
    {
     "name": "stdout",
     "output_type": "stream",
     "text": [
      "Original DataFrame:\n",
      "    A   B   C\n",
      "X  54   9  94\n",
      "Y  69  14  58\n",
      "Z  25  67   9\n",
      "Element at row 'Y' and column 'B': 14\n"
     ]
    }
   ],
   "source": [
    "## To create a pandas dataframe with specified columns and index\n",
    "df = pd.DataFrame(np.random.randint(1, 100, size = (3, 3)), columns=[\"A\", \"B\", \"C\"], index = [\"X\", \"Y\", \"Z\"])\n",
    "print(\"Original DataFrame:\")\n",
    "print(df)\n",
    "\n",
    "## To access the element at row \"Y\" and column \"B\"\n",
    "element = df.at[\"Y\", \"B\"]\n",
    "print(\"Element at row 'Y' and column 'B':\", element)"
   ]
  },
  {
   "cell_type": "markdown",
   "id": "4f1aad7d",
   "metadata": {},
   "source": [
    "### Assignment 2: DataFrame Operations\n",
    "\n",
    "1. Create a Pandas DataFrame with 3 columns and 5 rows filled with random integers. Add a new column that is the product of the first two columns."
   ]
  },
  {
   "cell_type": "code",
   "execution_count": 4,
   "id": "ab259f4a",
   "metadata": {},
   "outputs": [
    {
     "name": "stdout",
     "output_type": "stream",
     "text": [
      "Original DataFrame:\n",
      "   a  b  c\n",
      "0  6  5  1\n",
      "1  6  2  3\n",
      "2  4  7  6\n",
      "3  1  8  7\n",
      "4  1  2  2\n",
      "DataFrame with new column:\n",
      "   a  b  c   d\n",
      "0  6  5  1  30\n",
      "1  6  2  3  12\n",
      "2  4  7  6  28\n",
      "3  1  8  7   8\n",
      "4  1  2  2   2\n"
     ]
    }
   ],
   "source": [
    "## To create a pandas dataframe with 3 columns and 5 rows filled with random integers\n",
    "df = pd.DataFrame(np.random.randint(1, 10, size = (5, 3)), columns = [\"a\", \"b\", \"c\"])\n",
    "print(\"Original DataFrame:\")\n",
    "print(df)\n",
    "\n",
    "## To add a new column that is the product of the first two columns\n",
    "df[\"d\"] = df[\"a\"] * df[\"b\"]\n",
    "print(\"DataFrame with new column:\")\n",
    "print(df)"
   ]
  },
  {
   "cell_type": "markdown",
   "id": "f3093ade",
   "metadata": {},
   "source": [
    "2. Create a Pandas DataFrame with 3 columns and 4 rows filled with random integers. Compute the row-wise and column-wise sum."
   ]
  },
  {
   "cell_type": "code",
   "execution_count": 5,
   "id": "6b03e4cd",
   "metadata": {},
   "outputs": [
    {
     "name": "stdout",
     "output_type": "stream",
     "text": [
      "Original DataFrame:\n",
      "   a  b  c\n",
      "0  8  2  5\n",
      "1  8  9  4\n",
      "2  7  4  1\n",
      "3  4  5  6\n",
      "Row-wise sum:\n",
      "0    15\n",
      "1    21\n",
      "2    12\n",
      "3    15\n",
      "dtype: int64\n",
      "Column-wise sum:\n",
      "a    27\n",
      "b    20\n",
      "c    16\n",
      "dtype: int64\n"
     ]
    }
   ],
   "source": [
    "## To create dataframe\n",
    "df = pd.DataFrame(np.random.randint(1, 10, size = (4, 3)), columns= [\"a\", \"b\", \"c\"])\n",
    "print(\"Original DataFrame:\")\n",
    "print(df)\n",
    "\n",
    "## To compute the row-wise and column-wise sum\n",
    "row_sum = df.sum(axis = 1)\n",
    "column_sum = df.sum(axis = 0)\n",
    "\n",
    "print(\"Row-wise sum:\")\n",
    "print(row_sum)\n",
    "print(\"Column-wise sum:\")\n",
    "print(column_sum)"
   ]
  },
  {
   "cell_type": "markdown",
   "id": "e138255f",
   "metadata": {},
   "source": [
    "### Assignment 3: Data Cleaning\n",
    "\n",
    "1. Create a Pandas DataFrame with 3 columns and 5 rows filled with random integers. Introduce some NaN values. Fill the NaN values with the mean of the respective columns."
   ]
  },
  {
   "cell_type": "code",
   "execution_count": 6,
   "id": "c142d70e",
   "metadata": {},
   "outputs": [
    {
     "name": "stdout",
     "output_type": "stream",
     "text": [
      "Original DataFrame:\n",
      "    A   B   C\n",
      "0  71  93  88\n",
      "1  51  48  43\n",
      "2  11   4  25\n",
      "3  95  95  60\n",
      "4  89  65  67\n",
      "DataFrame with NaN values:\n",
      "      A     B     C\n",
      "0  71.0  93.0  88.0\n",
      "1  51.0   NaN  43.0\n",
      "2  11.0   4.0   NaN\n",
      "3   NaN  95.0  60.0\n",
      "4  89.0  65.0  67.0\n",
      "DataFrame with NaN values filled:\n",
      "      A      B     C\n",
      "0  71.0  93.00  88.0\n",
      "1  51.0  64.25  43.0\n",
      "2  11.0   4.00  64.5\n",
      "3  55.5  95.00  60.0\n",
      "4  89.0  65.00  67.0\n",
      "A    55.50\n",
      "B    64.25\n",
      "C    64.50\n",
      "dtype: float64\n"
     ]
    }
   ],
   "source": [
    "## To Create a Pandas DataFrame with 3 columns and 5 rows filled with random integers\n",
    "df = pd.DataFrame(np.random.randint(1, 100, size=(5, 3)), columns=['A', 'B', 'C'])\n",
    "print(\"Original DataFrame:\")\n",
    "print(df)\n",
    "\n",
    "## To Introduce some NaN values\n",
    "df.iloc[1, 1] = np.nan\n",
    "df.iloc[2, 2] = np.nan\n",
    "df.iloc[3, 0] = np.nan\n",
    "print(\"DataFrame with NaN values:\")\n",
    "print(df)\n",
    "\n",
    "# Fill the NaN values with the mean of the respective columns\n",
    "df.fillna(df.mean(), inplace=True)\n",
    "print(\"DataFrame with NaN values filled:\")\n",
    "print(df)\n",
    "print(df.mean())"
   ]
  },
  {
   "cell_type": "markdown",
   "id": "088e5e7f",
   "metadata": {},
   "source": [
    "2. Create a Pandas DataFrame with 4 columns and 6 rows filled with random integers. Introduce some NaN values. Drop the rows with any NaN values."
   ]
  },
  {
   "cell_type": "code",
   "execution_count": 7,
   "id": "7efb9b52",
   "metadata": {},
   "outputs": [
    {
     "name": "stdout",
     "output_type": "stream",
     "text": [
      "Original DataFrame:\n",
      "    A   B   C   D\n",
      "0  82  53  46  77\n",
      "1  33  97  96  65\n",
      "2  59  89  78  54\n",
      "3  55   7  48  49\n",
      "4  34  51  58  78\n",
      "5  28  38  77  18\n",
      "DataFrame with NaN values:\n",
      "    A     B     C   D\n",
      "0  82  53.0  46.0  77\n",
      "1  33  97.0   NaN  65\n",
      "2  59  89.0  78.0  54\n",
      "3  55   7.0   NaN  49\n",
      "4  34   NaN  58.0  78\n",
      "5  28  38.0  77.0  18\n",
      "DataFrame with NaN values dropped:\n",
      "    A     B     C   D\n",
      "0  82  53.0  46.0  77\n",
      "2  59  89.0  78.0  54\n",
      "5  28  38.0  77.0  18\n"
     ]
    }
   ],
   "source": [
    "## To Create a Pandas DataFrame with 4 columns and 6 rows filled with random integers\n",
    "df = pd.DataFrame(np.random.randint(1, 100, size=(6, 4)), columns=['A', 'B', 'C', 'D'])\n",
    "print(\"Original DataFrame:\")\n",
    "print(df)\n",
    "\n",
    "## To Introduce some NaN values\n",
    "df.iloc[1, 2] = np.nan\n",
    "df.iloc[3, 2] = np.nan\n",
    "df.iloc[4, 1] = np.nan\n",
    "print(\"DataFrame with NaN values:\")\n",
    "print(df)\n",
    "\n",
    "## To Drop the rows with any NaN values\n",
    "df.dropna(inplace=True)\n",
    "print(\"DataFrame with NaN values dropped:\")\n",
    "print(df)\n"
   ]
  },
  {
   "cell_type": "markdown",
   "id": "df9e2bce",
   "metadata": {},
   "source": [
    "### Assignment 4: Data Aggregation\n",
    "\n",
    "1. Create a Pandas DataFrame with 2 columns: 'Category' and 'Value'. Fill the 'Category' column with random categories ('A', 'B', 'C') and the 'Value' column with random integers. Group the DataFrame by 'Category' and compute the sum and mean of 'Value' for each category."
   ]
  },
  {
   "cell_type": "code",
   "execution_count": 8,
   "id": "c0b28382",
   "metadata": {},
   "outputs": [
    {
     "name": "stdout",
     "output_type": "stream",
     "text": [
      "Original DataFrame:\n",
      "  Category  Value\n",
      "0        B     42\n",
      "1        B     72\n",
      "2        A     38\n",
      "3        B     86\n",
      "4        A     98\n",
      "5        B     61\n",
      "6        B     28\n",
      "7        A     97\n",
      "8        C     55\n",
      "9        C     10\n",
      "Grouped DataFrame:\n",
      "          sum       mean\n",
      "Category                \n",
      "A         233  77.666667\n",
      "B         289  57.800000\n",
      "C          65  32.500000\n"
     ]
    }
   ],
   "source": [
    "## To create a pandas datafram with 2 columns: \"category\" and \"value\"\n",
    "df = pd.DataFrame({\"Category\":np.random.choice([\"A\", \"B\", \"C\"], size = 10), \"Value\": np.random.randint(1, 100, size = 10)})\n",
    "print(\"Original DataFrame:\")\n",
    "print(df)\n",
    "\n",
    "## To Group the DataFrame by 'Category' and compute the sum and mean of 'Value' for each category\n",
    "grouped = df.groupby(\"Category\")[\"Value\"].agg([\"sum\", \"mean\"])\n",
    "print(\"Grouped DataFrame:\")\n",
    "print(grouped)"
   ]
  },
  {
   "cell_type": "markdown",
   "id": "0d4acb2e",
   "metadata": {},
   "source": [
    "2. Create a Pandas DataFrame with 3 columns: 'Product', 'Category', and 'Sales'. Fill the DataFrame with random data. Group the DataFrame by 'Category' and compute the total sales for each category."
   ]
  },
  {
   "cell_type": "code",
   "execution_count": 9,
   "id": "6320b89f",
   "metadata": {},
   "outputs": [
    {
     "name": "stdout",
     "output_type": "stream",
     "text": [
      "Original DataFrame:\n",
      "  Product Category  Sales\n",
      "0      p1        C     50\n",
      "1      p3        A     30\n",
      "2      p2        B     28\n",
      "3      p3        B     85\n",
      "4      p1        B     13\n",
      "5      p3        C     97\n",
      "6      p3        A     97\n",
      "7      p3        A     16\n",
      "8      p2        B     92\n",
      "9      p2        B     54\n",
      "Grouped DataFrame:\n",
      "Category\n",
      "A    143\n",
      "B    272\n",
      "C    147\n",
      "Name: Sales, dtype: int32\n"
     ]
    }
   ],
   "source": [
    "## To create a pandas dataframe with 3 columns: 'Product', 'Category', and 'Sales'\n",
    "df = pd.DataFrame({\"Product\":np.random.choice([\"p1\", \"p2\", \"p3\"], size = 10), \"Category\": np.random.choice(['A', 'B', 'C'], size=10), \"Sales\": np.random.randint(1, 100, size=10)})\n",
    "print(\"Original DataFrame:\")\n",
    "print(df)\n",
    "\n",
    "## To group the dataframe by 'Category' and compute the total sales for each category\n",
    "grouped = df.groupby(\"Category\")[\"Sales\"].sum()\n",
    "print(\"Grouped DataFrame:\")\n",
    "print(grouped)"
   ]
  },
  {
   "cell_type": "markdown",
   "id": "59c34556",
   "metadata": {},
   "source": [
    "### Assignment 5: Merging DataFrames\n",
    "\n",
    "1. Create two Pandas DataFrames with a common column. Merge the DataFrames using the common column."
   ]
  },
  {
   "cell_type": "code",
   "execution_count": 10,
   "id": "f36c8d24",
   "metadata": {},
   "outputs": [
    {
     "name": "stdout",
     "output_type": "stream",
     "text": [
      "DataFrame 1:\n",
      "  key  value1\n",
      "0   a       6\n",
      "1   b      77\n",
      "2   c      15\n",
      "3   d      44\n",
      "DataFrame 2:\n",
      "  key  value2\n",
      "0   a      64\n",
      "1   b      99\n",
      "2   e      69\n",
      "3   f      50\n",
      "Merged DataFrame:\n",
      "  key  value1  value2\n",
      "0   a       6      64\n",
      "1   b      77      99\n"
     ]
    }
   ],
   "source": [
    "## To Create two Pandas DataFrames with a common column\n",
    "df1 = pd.DataFrame({\"key\": [\"a\", \"b\", \"c\", \"d\"], \"value1\": np.random.randint(1, 100, size = 4)})\n",
    "df2 = pd.DataFrame({\"key\":[\"a\", \"b\", \"e\", \"f\"], \"value2\":np.random.randint(1, 100, size = 4)})\n",
    "print(\"DataFrame 1:\")\n",
    "print(df1)\n",
    "print(\"DataFrame 2:\")\n",
    "print(df2)\n",
    "\n",
    "## To Merge the DataFrames using the common column\n",
    "merged_df = pd.merge(df1, df2, on = \"key\")\n",
    "print(\"Merged DataFrame:\")\n",
    "print(merged_df)\n",
    "\n"
   ]
  },
  {
   "cell_type": "markdown",
   "id": "8a261534",
   "metadata": {},
   "source": [
    "2. Create two Pandas DataFrames with different columns. Concatenate the DataFrames along the rows and along the columns."
   ]
  },
  {
   "cell_type": "code",
   "execution_count": 11,
   "id": "f4222ad1",
   "metadata": {},
   "outputs": [
    {
     "name": "stdout",
     "output_type": "stream",
     "text": [
      "DataFrame 1:\n",
      "    A   B\n",
      "0  19  60\n",
      "1  87  31\n",
      "2  80  88\n",
      "3  55  99\n",
      "DataFrame 2:\n",
      "    C   D\n",
      "0  36  15\n",
      "1  65   9\n",
      "2  33  66\n",
      "3  97  46\n",
      "Concatenated DataFrame (rows):\n",
      "      A     B     C     D\n",
      "0  19.0  60.0   NaN   NaN\n",
      "1  87.0  31.0   NaN   NaN\n",
      "2  80.0  88.0   NaN   NaN\n",
      "3  55.0  99.0   NaN   NaN\n",
      "0   NaN   NaN  36.0  15.0\n",
      "1   NaN   NaN  65.0   9.0\n",
      "2   NaN   NaN  33.0  66.0\n",
      "3   NaN   NaN  97.0  46.0\n",
      "Concatenated DataFrame (columns):\n",
      "    A   B   C   D\n",
      "0  19  60  36  15\n",
      "1  87  31  65   9\n",
      "2  80  88  33  66\n",
      "3  55  99  97  46\n"
     ]
    }
   ],
   "source": [
    "## To Create two Pandas DataFrames with different columns\n",
    "df1 = pd.DataFrame({'A': np.random.randint(1, 100, size=4), 'B': np.random.randint(1, 100, size=4)})\n",
    "df2 = pd.DataFrame({'C': np.random.randint(1, 100, size=4), 'D': np.random.randint(1, 100, size=4)})\n",
    "print(\"DataFrame 1:\")\n",
    "print(df1)\n",
    "print(\"DataFrame 2:\")\n",
    "print(df2)\n",
    "\n",
    "## To Concatenate the DataFrames along the rows\n",
    "concat_rows = pd.concat([df1, df2], axis=0)\n",
    "print(\"Concatenated DataFrame (rows):\")\n",
    "print(concat_rows)\n",
    "\n",
    "## To Concatenate the DataFrames along the columns\n",
    "concat_columns = pd.concat([df1, df2], axis=1)\n",
    "print(\"Concatenated DataFrame (columns):\")\n",
    "print(concat_columns)\n"
   ]
  },
  {
   "cell_type": "markdown",
   "id": "cc2ec2b9",
   "metadata": {},
   "source": [
    "### Assignment 6: Time Series Analysis\n",
    "\n",
    "1. Create a Pandas DataFrame with a datetime index and one column filled with random integers. Resample the DataFrame to compute the monthly mean of the values."
   ]
  },
  {
   "cell_type": "code",
   "execution_count": 12,
   "id": "d5607b6a",
   "metadata": {},
   "outputs": [
    {
     "name": "stdout",
     "output_type": "stream",
     "text": [
      "Original DataFrame:\n",
      "            data\n",
      "date            \n",
      "2022-01-01    70\n",
      "2022-01-02    34\n",
      "2022-01-03    93\n",
      "2022-01-04    50\n",
      "2022-01-05    65\n",
      "...          ...\n",
      "2022-12-27    66\n",
      "2022-12-28    88\n",
      "2022-12-29    35\n",
      "2022-12-30    16\n",
      "2022-12-31    40\n",
      "\n",
      "[365 rows x 1 columns]\n",
      "Monthly mean DataFrame:\n",
      "                 data\n",
      "date                 \n",
      "2022-01-31  48.612903\n",
      "2022-02-28  46.500000\n",
      "2022-03-31  48.580645\n",
      "2022-04-30  55.433333\n",
      "2022-05-31  55.935484\n",
      "2022-06-30  61.233333\n",
      "2022-07-31  50.451613\n",
      "2022-08-31  54.096774\n",
      "2022-09-30  52.266667\n",
      "2022-10-31  49.193548\n",
      "2022-11-30  58.466667\n",
      "2022-12-31  56.129032\n"
     ]
    }
   ],
   "source": [
    "\n",
    "## To create a pandas dataframe with datetime index and one column filled with random integers\n",
    "date_rng = pd.date_range(start='2022-01-01', end='2022-12-31', freq= \"D\")\n",
    "df = pd.DataFrame(date_rng, columns=[\"date\"])\n",
    "df[\"data\"] = np.random.randint(1, 100, size = len(date_rng))\n",
    "df.set_index(\"date\", inplace=True)\n",
    "print(\"Original DataFrame:\")\n",
    "print(df)\n",
    "\n",
    "## To resample the dataframe to compute the monthly mean of the values\n",
    "monthly_mean = df.resample(\"ME\").mean()\n",
    "print(\"Monthly mean DataFrame:\")\n",
    "print(monthly_mean)\n"
   ]
  },
  {
   "cell_type": "markdown",
   "id": "5dbbd2ed",
   "metadata": {},
   "source": [
    "2. Create a Pandas DataFrame with a datetime index ranging from '2021-01-01' to '2021-12-31' and one column filled with random integers. Compute the rolling mean with a window of 7 days."
   ]
  },
  {
   "cell_type": "code",
   "execution_count": 13,
   "id": "ecff1e9a",
   "metadata": {},
   "outputs": [
    {
     "name": "stdout",
     "output_type": "stream",
     "text": [
      "Original DataFrame:\n",
      "            data\n",
      "date            \n",
      "2021-01-01    38\n",
      "2021-01-02    87\n",
      "2021-01-03    17\n",
      "2021-01-04    46\n",
      "2021-01-05     3\n",
      "...          ...\n",
      "2021-12-27    23\n",
      "2021-12-28    52\n",
      "2021-12-29    94\n",
      "2021-12-30    38\n",
      "2021-12-31    16\n",
      "\n",
      "[365 rows x 1 columns]\n",
      "Rolling mean DataFrame:\n",
      "                 data\n",
      "date                 \n",
      "2021-01-01        NaN\n",
      "2021-01-02        NaN\n",
      "2021-01-03        NaN\n",
      "2021-01-04        NaN\n",
      "2021-01-05        NaN\n",
      "...               ...\n",
      "2021-12-27  58.428571\n",
      "2021-12-28  54.714286\n",
      "2021-12-29  56.142857\n",
      "2021-12-30  53.000000\n",
      "2021-12-31  44.428571\n",
      "\n",
      "[365 rows x 1 columns]\n"
     ]
    }
   ],
   "source": [
    "## To Create a Pandas DataFrame with a datetime index ranging from '2021-01-01' to '2021-12-31'\n",
    "date_rng = pd.date_range(start='2021-01-01', end='2021-12-31', freq='D')\n",
    "df = pd.DataFrame(date_rng, columns=['date'])\n",
    "df['data'] = np.random.randint(0, 100, size=(len(date_rng)))\n",
    "df.set_index('date', inplace=True)\n",
    "print(\"Original DataFrame:\")\n",
    "print(df)\n",
    "\n",
    "## To Compute the rolling mean with a window of 7 days\n",
    "rolling_mean = df.rolling(window=7).mean()\n",
    "print(\"Rolling mean DataFrame:\")\n",
    "print(rolling_mean)"
   ]
  },
  {
   "cell_type": "markdown",
   "id": "30992673",
   "metadata": {},
   "source": [
    "### Assignment 7: MultiIndex DataFrame\n",
    "\n",
    "1. Create a Pandas DataFrame with a MultiIndex (hierarchical index). Perform some basic indexing and slicing operations on the MultiIndex DataFrame."
   ]
  },
  {
   "cell_type": "code",
   "execution_count": 14,
   "id": "1e75a851",
   "metadata": {},
   "outputs": [
    {
     "name": "stdout",
     "output_type": "stream",
     "text": [
      "MultiIndex DataFrame:\n",
      "                      Value1  Value2  Value3\n",
      "Category SubCategory                        \n",
      "A        one              44      92      98\n",
      "         two              31      24       3\n",
      "B        one              87      90      32\n",
      "         two              45      65      14\n",
      "Indexing at Category 'A':\n",
      "             Value1  Value2  Value3\n",
      "SubCategory                        \n",
      "one              44      92      98\n",
      "two              31      24       3\n",
      "Slicing at Category 'B' and SubCategory 'two':\n",
      "Value1    45\n",
      "Value2    65\n",
      "Value3    14\n",
      "Name: (B, two), dtype: int32\n"
     ]
    }
   ],
   "source": [
    "# Create a Pandas DataFrame with a MultiIndex (hierarchical index)\n",
    "arrays = [['A', 'A', 'B', 'B'], ['one', 'two', 'one', 'two']]\n",
    "index = pd.MultiIndex.from_arrays(arrays, names=('Category', 'SubCategory'))\n",
    "df = pd.DataFrame(np.random.randint(1, 100, size=(4, 3)), index=index, columns=['Value1', 'Value2', 'Value3'])\n",
    "print(\"MultiIndex DataFrame:\")\n",
    "print(df)\n",
    "\n",
    "# Basic indexing and slicing operations\n",
    "print(\"Indexing at Category 'A':\")\n",
    "print(df.loc['A'])\n",
    "\n",
    "print(\"Slicing at Category 'B' and SubCategory 'two':\")\n",
    "print(df.loc[('B', 'two')])\n",
    "\n"
   ]
  },
  {
   "cell_type": "markdown",
   "id": "77286d54",
   "metadata": {},
   "source": [
    "2. Create a Pandas DataFrame with MultiIndex consisting of 'Category' and 'SubCategory'. Fill the DataFrame with random data and compute the sum of values for each 'Category' and 'SubCategory'."
   ]
  },
  {
   "cell_type": "code",
   "execution_count": 15,
   "id": "cbb65758",
   "metadata": {},
   "outputs": [
    {
     "name": "stdout",
     "output_type": "stream",
     "text": [
      "MultiIndex DataFrame:\n",
      "                      Value1  Value2  Value3\n",
      "Category SubCategory                        \n",
      "A        one              85      97      11\n",
      "         two              75      30      41\n",
      "B        one              39      45      55\n",
      "         two              51      33      29\n",
      "C        one              35       1      50\n",
      "         two               3      31      43\n",
      "Sum of values:\n",
      "                      Value1  Value2  Value3\n",
      "Category SubCategory                        \n",
      "A        one              85      97      11\n",
      "         two              75      30      41\n",
      "B        one              39      45      55\n",
      "         two              51      33      29\n",
      "C        one              35       1      50\n",
      "         two               3      31      43\n"
     ]
    }
   ],
   "source": [
    "# Create a Pandas DataFrame with MultiIndex consisting of 'Category' and 'SubCategory'\n",
    "arrays = [['A', 'A', 'B', 'B', 'C', 'C'], ['one', 'two', 'one', 'two', 'one', 'two']]\n",
    "index = pd.MultiIndex.from_arrays(arrays, names=('Category', 'SubCategory'))\n",
    "df = pd.DataFrame(np.random.randint(1, 100, size=(6, 3)), index=index, columns=['Value1', 'Value2', 'Value3'])\n",
    "print(\"MultiIndex DataFrame:\")\n",
    "print(df)\n",
    "\n",
    "# Compute the sum of values for each 'Category' and 'SubCategory'\n",
    "sum_values = df.groupby(['Category', 'SubCategory']).sum()\n",
    "print(\"Sum of values:\")\n",
    "print(sum_values)"
   ]
  },
  {
   "cell_type": "markdown",
   "id": "f5994298",
   "metadata": {},
   "source": [
    "### Assignment 8: Pivot Tables\n",
    "\n",
    "1. Create a Pandas DataFrame with columns 'Date', 'Category', and 'Value'. Create a pivot table to compute the sum of 'Value' for each 'Category' by 'Date'."
   ]
  },
  {
   "cell_type": "code",
   "execution_count": 16,
   "id": "ac980392",
   "metadata": {},
   "outputs": [
    {
     "name": "stdout",
     "output_type": "stream",
     "text": [
      "Original DataFrame:\n",
      "        date category  value\n",
      "0 2022-01-07        a     15\n",
      "1 2022-01-06        b     96\n",
      "2 2022-01-04        a     58\n",
      "3 2022-01-04        c      8\n",
      "4 2022-01-04        c     53\n",
      "5 2022-01-07        c     43\n",
      "6 2022-01-02        b     91\n",
      "7 2022-01-05        b     78\n",
      "8 2022-01-01        a     76\n",
      "9 2022-01-01        a     51\n",
      "Pivot Table:\n",
      "category        a     b     c\n",
      "date                         \n",
      "2022-01-01  127.0   NaN   NaN\n",
      "2022-01-02    NaN  91.0   NaN\n",
      "2022-01-04   58.0   NaN  61.0\n",
      "2022-01-05    NaN  78.0   NaN\n",
      "2022-01-06    NaN  96.0   NaN\n",
      "2022-01-07   15.0   NaN  43.0\n"
     ]
    }
   ],
   "source": [
    "## To Create a Pandas DataFrame with columns 'Date', 'Category', and 'Value'\n",
    "date_rng = pd.date_range(start='2022-01-01', end='2022-01-10', freq='D')\n",
    "df = pd.DataFrame({\"date\":np.random.choice(date_rng, size=10), \"category\":np.random.choice([\"a\", \"b\",\"c\"], size = 10), \"value\":np.random.randint(1, 100, size = 10 )})\n",
    "print(\"Original DataFrame:\")\n",
    "print(df)\n",
    "\n",
    "## To Create a pivot table to compute the sum of 'Value' for each 'Category' by 'Date'\n",
    "pivot_table = df.pivot_table(values = \"value\", index = \"date\", columns = \"category\", aggfunc= \"sum\" )\n",
    "print(\"Pivot Table:\")\n",
    "print(pivot_table)"
   ]
  },
  {
   "cell_type": "markdown",
   "id": "3845139d",
   "metadata": {},
   "source": [
    "2. Create a Pandas DataFrame with columns 'Year', 'Quarter', and 'Revenue'. Create a pivot table to compute the mean 'Revenue' for each 'Quarter' by 'Year'."
   ]
  },
  {
   "cell_type": "code",
   "execution_count": 17,
   "id": "171bf9af",
   "metadata": {},
   "outputs": [
    {
     "name": "stdout",
     "output_type": "stream",
     "text": [
      "Original DataFrame:\n",
      "    Year Quarter  Revenue\n",
      "0   2022      Q3       40\n",
      "1   2022      Q1       26\n",
      "2   2022      Q4       45\n",
      "3   2022      Q2       16\n",
      "4   2020      Q2       63\n",
      "5   2022      Q3       21\n",
      "6   2020      Q4       55\n",
      "7   2022      Q3       23\n",
      "8   2020      Q3       66\n",
      "9   2021      Q4        1\n",
      "10  2021      Q2       52\n",
      "11  2020      Q1       14\n",
      "Pivot Table:\n",
      "Quarter    Q1    Q2    Q3    Q4\n",
      "Year                           \n",
      "2020     14.0  63.0  66.0  55.0\n",
      "2021      NaN  52.0   NaN   1.0\n",
      "2022     26.0  16.0  28.0  45.0\n"
     ]
    }
   ],
   "source": [
    "\n",
    "## To create Pandas DataFrame with columns 'Year', 'Quarter', and 'Revenue'\n",
    "df = pd.DataFrame({\"Year\":np.random.choice([2020, 2021, 2022], size = 12), \"Quarter\":np.random.choice([\"Q1\", \"Q2\", \"Q3\", \"Q4\"], size = 12), \"Revenue\":np.random.randint(1, 100, size = 12)})\n",
    "print(\"Original DataFrame:\")\n",
    "print(df)\n",
    "\n",
    "## To Create a pivot table to compute the mean 'Revenue' for each 'Quarter' by 'Year'\n",
    "pivot_table = df.pivot_table(values=\"Revenue\", index=\"Year\", columns= \"Quarter\", aggfunc= \"mean\")\n",
    "print(\"Pivot Table:\")\n",
    "print(pivot_table)\n"
   ]
  },
  {
   "cell_type": "markdown",
   "id": "c8d95510",
   "metadata": {},
   "source": [
    "### Assignment 9: Applying Functions\n",
    "\n",
    "1. Create a Pandas DataFrame with 3 columns and 5 rows filled with random integers. Apply a function that doubles the values of the DataFrame."
   ]
  },
  {
   "cell_type": "code",
   "execution_count": 33,
   "id": "972e776f",
   "metadata": {},
   "outputs": [
    {
     "name": "stdout",
     "output_type": "stream",
     "text": [
      "Original DataFrame:\n",
      "    a   b   c\n",
      "0  10  31  64\n",
      "1  62  11  15\n",
      "2  32  24  69\n",
      "3  27  39  99\n",
      "4  82  83  12\n",
      "Doubled DataFrame:\n",
      "     a    b    c\n",
      "0   20   62  128\n",
      "1  124   22   30\n",
      "2   64   48  138\n",
      "3   54   78  198\n",
      "4  164  166   24\n"
     ]
    }
   ],
   "source": [
    "\n",
    "## To Create a Pandas DataFrame with 3 columns and 5 rows filled with random integers\n",
    "df = pd.DataFrame(np.random.randint(1, 100, size = (5, 3)), columns = [\"a\", \"b\", \"c\"])\n",
    "print(\"Original DataFrame:\")\n",
    "print(df)\n",
    "\n",
    "## To apply a function that doubles the values of the dataframe\n",
    "df_doubled = df.apply(lambda x: x*2)\n",
    "print(\"Doubled DataFrame:\")\n",
    "print(df_doubled)"
   ]
  },
  {
   "cell_type": "markdown",
   "id": "444704eb",
   "metadata": {},
   "source": [
    "2. Create a Pandas DataFrame with 3 columns and 6 rows filled with random integers. Apply a lambda function to create a new column that is the sum of the existing columns."
   ]
  },
  {
   "cell_type": "code",
   "execution_count": 35,
   "id": "96b64b9d",
   "metadata": {},
   "outputs": [
    {
     "name": "stdout",
     "output_type": "stream",
     "text": [
      "Original DataFrame:\n",
      "    a   b   c\n",
      "0  40  48   6\n",
      "1   7  30  16\n",
      "2  10  48  31\n",
      "3  30  31  21\n",
      "4  27  33  35\n",
      "5  40  28  41\n",
      "DataFrame with Sum column:\n",
      "    a   b   c  sum\n",
      "0  40  48   6   94\n",
      "1   7  30  16   53\n",
      "2  10  48  31   89\n",
      "3  30  31  21   82\n",
      "4  27  33  35   95\n",
      "5  40  28  41  109\n"
     ]
    }
   ],
   "source": [
    "\n",
    "## To Create a Pandas DataFrame with 3 columns and 6 rows filled with random integers\n",
    "df = pd.DataFrame(np.random.randint(1, 50, size=(6, 3)), columns = [\"a\", \"b\", \"c\"])\n",
    "print(\"Original DataFrame:\")\n",
    "print(df)\n",
    "\n",
    "## To Apply a lambda function to create a new column that is the sum of the existing columns\n",
    "df[\"sum\"] = df.apply(lambda row: row.sum(), axis = 1)\n",
    "print(\"DataFrame with Sum column:\")\n",
    "print(df)"
   ]
  },
  {
   "cell_type": "markdown",
   "id": "1d950362",
   "metadata": {},
   "source": [
    "### Assignment 10: Working with Text Data\n",
    "\n",
    "1. Create a Pandas Series with 5 random text strings. Convert all the strings to uppercase."
   ]
  },
  {
   "cell_type": "code",
   "execution_count": 39,
   "id": "ea446899",
   "metadata": {},
   "outputs": [
    {
     "name": "stdout",
     "output_type": "stream",
     "text": [
      "Original Series:\n",
      "0         this\n",
      "1         that\n",
      "2        there\n",
      "3         then\n",
      "4    therefore\n",
      "dtype: object\n",
      "Uppercase Series:\n",
      "0         THIS\n",
      "1         THAT\n",
      "2        THERE\n",
      "3         THEN\n",
      "4    THEREFORE\n",
      "dtype: object\n"
     ]
    }
   ],
   "source": [
    "\n",
    "## To Create a Pandas Series with 5 random text strings\n",
    "text_data = pd.Series([\"this\", \"that\", \"there\", \"then\", \"therefore\"])\n",
    "print(\"Original Series:\")\n",
    "print(text_data)\n",
    "\n",
    "## To convert all the strings to uppercase\n",
    "uppercase_data = text_data.str.upper()\n",
    "print(\"Uppercase Series:\")\n",
    "print(uppercase_data)"
   ]
  },
  {
   "cell_type": "markdown",
   "id": "5a374e31",
   "metadata": {},
   "source": [
    "2. Create a Pandas Series with 5 random text strings. Extract the first three characters of each string."
   ]
  },
  {
   "cell_type": "code",
   "execution_count": 40,
   "id": "ec97114f",
   "metadata": {},
   "outputs": [
    {
     "name": "stdout",
     "output_type": "stream",
     "text": [
      "Original Series:\n",
      "0         this\n",
      "1         that\n",
      "2        there\n",
      "3         then\n",
      "4    therefore\n",
      "dtype: object\n",
      "First three characters:\n",
      "0    thi\n",
      "1    tha\n",
      "2    the\n",
      "3    the\n",
      "4    the\n",
      "dtype: object\n"
     ]
    }
   ],
   "source": [
    "## To Create a Pandas Series with 5 random text strings\n",
    "text_data = pd.Series([\"this\", \"that\", \"there\", \"then\", \"therefore\"])\n",
    "print(\"Original Series:\")\n",
    "print(text_data)\n",
    "\n",
    "## To extract the first three characters of each string\n",
    "first_three_chars = text_data.str[:3]\n",
    "print(\"First three characters:\")\n",
    "print(first_three_chars)"
   ]
  }
 ],
 "metadata": {
  "kernelspec": {
   "display_name": "base",
   "language": "python",
   "name": "python3"
  },
  "language_info": {
   "codemirror_mode": {
    "name": "ipython",
    "version": 3
   },
   "file_extension": ".py",
   "mimetype": "text/x-python",
   "name": "python",
   "nbconvert_exporter": "python",
   "pygments_lexer": "ipython3",
   "version": "3.12.4"
  }
 },
 "nbformat": 4,
 "nbformat_minor": 5
}
