{
 "cells": [
  {
   "cell_type": "markdown",
   "metadata": {},
   "source": [
    "# Module: NumPy Assignments\n",
    "## Lesson: NumPy\n",
    "### Assignment 1: Array Creation and Manipulation\n",
    "\n",
    "1. Create a NumPy array of shape (5, 5) filled with random integers between 1 and 20. Replace all the elements in the third column with 1."
   ]
  },
  {
   "cell_type": "code",
   "execution_count": 3,
   "id": "081d9130",
   "metadata": {},
   "outputs": [
    {
     "name": "stdout",
     "output_type": "stream",
     "text": [
      "Original array:\n",
      "[[ 3  4 17  1  3]\n",
      " [ 6  5 14  6  3]\n",
      " [15 12  8 17 12]\n",
      " [ 7  5 12 19  3]\n",
      " [11 16  6  4  3]]\n",
      "Modified array:\n",
      "[[ 3  4  1  1  3]\n",
      " [ 6  5  1  6  3]\n",
      " [15 12  1 17 12]\n",
      " [ 7  5  1 19  3]\n",
      " [11 16  1  4  3]]\n"
     ]
    }
   ],
   "source": [
    "import numpy as np\n",
    "\n",
    "## To Create a NumPy array of shape (5, 5) filled with random integers\n",
    "array = np.random.randint(1, 21, size = (5, 5))\n",
    "print(\"Original array:\")\n",
    "print(array)\n",
    "\n",
    "## To replace all the elements in the third column with 1\n",
    "array[:, 2] = 1\n",
    "print(\"Modified array:\")\n",
    "print(array)\n"
   ]
  },
  {
   "cell_type": "markdown",
   "id": "97a8f856",
   "metadata": {},
   "source": [
    "2. Create a NumPy array of shape (4, 4) with values from 1 to 16. Replace the diagonal elements with 0."
   ]
  },
  {
   "cell_type": "code",
   "execution_count": 4,
   "id": "5b9fd5a5",
   "metadata": {},
   "outputs": [
    {
     "name": "stdout",
     "output_type": "stream",
     "text": [
      "Original array:\n",
      "[[ 1  2  3  4]\n",
      " [ 5  6  7  8]\n",
      " [ 9 10 11 12]\n",
      " [13 14 15 16]]\n",
      "Modified array:\n",
      "[[ 0  2  3  4]\n",
      " [ 5  0  7  8]\n",
      " [ 9 10  0 12]\n",
      " [13 14 15  0]]\n"
     ]
    }
   ],
   "source": [
    "\n",
    "## To Create a NumPy array of shape (4, 4) with values from 1 to 16\n",
    "array = np.arange(1, 17).reshape(4, 4)  # np.random.randint(1, 17, size = (4, 4))\n",
    "print(\"Original array:\")\n",
    "print(array)\n",
    "\n",
    "## To Replace the diagonal elements with 0\n",
    "np.fill_diagonal(array, 0)\n",
    "print(\"Modified array:\")\n",
    "print(array)"
   ]
  },
  {
   "cell_type": "markdown",
   "id": "fbc6b526",
   "metadata": {},
   "source": [
    "### Assignment 2: Array Indexing and Slicing\n",
    "\n",
    "1. Create a NumPy array of shape (6, 6) with values from 1 to 36. Extract the sub-array consisting of the 3rd to 5th rows and 2nd to 4th columns."
   ]
  },
  {
   "cell_type": "code",
   "execution_count": 5,
   "id": "464f4be1",
   "metadata": {},
   "outputs": [
    {
     "name": "stdout",
     "output_type": "stream",
     "text": [
      "Original array:\n",
      "[[ 1  2  3  4  5  6]\n",
      " [ 7  8  9 10 11 12]\n",
      " [13 14 15 16 17 18]\n",
      " [19 20 21 22 23 24]\n",
      " [25 26 27 28 29 30]\n",
      " [31 32 33 34 35 36]]\n",
      "Sub-array:\n",
      "[[14 15 16]\n",
      " [20 21 22]\n",
      " [26 27 28]]\n"
     ]
    }
   ],
   "source": [
    "## To Create a NumPy array of shape (6, 6) with values from 1 to 36\n",
    "array = np.arange(1, 37).reshape(6, 6)\n",
    "print(\"Original array:\")\n",
    "print(array)\n",
    "\n",
    "## To Extract the sub-array\n",
    "sub_array = array[2:5, 1:4]\n",
    "print(\"Sub-array:\")\n",
    "print(sub_array)"
   ]
  },
  {
   "cell_type": "markdown",
   "id": "a8e0d93a",
   "metadata": {},
   "source": [
    "2. Create a NumPy array of shape (5, 5) with random integers. Extract the elements on the border."
   ]
  },
  {
   "cell_type": "code",
   "execution_count": 6,
   "id": "4db70e87",
   "metadata": {},
   "outputs": [
    {
     "name": "stdout",
     "output_type": "stream",
     "text": [
      "Original array:\n",
      "[[14 20  3  1  1]\n",
      " [10 15  9 14 17]\n",
      " [12 11 16  8  3]\n",
      " [ 4  6  4 18  9]\n",
      " [20  9 14  1 16]]\n",
      "Border elements:\n",
      "[14 20  3  1  1 20  9 14  1 16 17  3  9 10 12  4]\n"
     ]
    }
   ],
   "source": [
    "## To Create a NumPy array of shape (5, 5) with random integers\n",
    "array = np.random.randint(1, 21, size=(5, 5))\n",
    "print(\"Original array:\")\n",
    "print(array)\n",
    "\n",
    "## To Extract the elements on the border\n",
    "border_elements = np.concatenate((array[0, :], array[-1, :], array[1:-1, -1], array[1:-1, 0]))\n",
    "print(\"Border elements:\")\n",
    "print(border_elements)\n"
   ]
  },
  {
   "cell_type": "markdown",
   "id": "9093c569",
   "metadata": {},
   "source": [
    "### Assignment 3: Array Operations\n",
    "\n",
    "1. Create two NumPy arrays of shape (3, 4) filled with random integers. Perform element-wise addition, subtraction, multiplication, and division."
   ]
  },
  {
   "cell_type": "code",
   "execution_count": 7,
   "id": "749b33a4",
   "metadata": {},
   "outputs": [
    {
     "name": "stdout",
     "output_type": "stream",
     "text": [
      "Array 1:\n",
      "[[39 37  4 29]\n",
      " [ 1 34  6  6]\n",
      " [25 10 44 16]]\n",
      "Array 2:\n",
      "[[47 25 18 46]\n",
      " [33 10 49 32]\n",
      " [43 30 15  7]]\n",
      "Element-wise addition:\n",
      "[[86 62 22 75]\n",
      " [34 44 55 38]\n",
      " [68 40 59 23]]\n",
      "Element-wise subtraction:\n",
      "[[ -8  12 -14 -17]\n",
      " [-32  24 -43 -26]\n",
      " [-18 -20  29   9]]\n",
      "Element-wise multiplication:\n",
      "[[1833  925   72 1334]\n",
      " [  33  340  294  192]\n",
      " [1075  300  660  112]]\n",
      "Element-wise division:\n",
      "[[0.82978723 1.48       0.22222222 0.63043478]\n",
      " [0.03030303 3.4        0.12244898 0.1875    ]\n",
      " [0.58139535 0.33333333 2.93333333 2.28571429]]\n"
     ]
    }
   ],
   "source": [
    "## To Create two NumPy arrays of shape (3, 4) filled with random integers\n",
    "array1 = np.random.randint(1, 50, size=(3, 4))\n",
    "array2 = np.random.randint(1, 50, size=(3, 4))\n",
    "print(\"Array 1:\")\n",
    "print(array1)\n",
    "print(\"Array 2:\")\n",
    "print(array2)\n",
    "\n",
    "## To Perform element-wise operations\n",
    "addition = array1 + array2\n",
    "subtraction = array1 - array2\n",
    "multiplication = array1 * array2\n",
    "division = array1 / array2\n",
    "\n",
    "print(\"Element-wise addition:\")\n",
    "print(addition)\n",
    "print(\"Element-wise subtraction:\")\n",
    "print(subtraction)\n",
    "print(\"Element-wise multiplication:\")\n",
    "print(multiplication)\n",
    "print(\"Element-wise division:\")\n",
    "print(division)"
   ]
  },
  {
   "cell_type": "markdown",
   "id": "710664d6",
   "metadata": {},
   "source": [
    "2. Create a NumPy array of shape (4, 4) with values from 1 to 16. Compute the row-wise and column-wise sum."
   ]
  },
  {
   "cell_type": "code",
   "execution_count": 8,
   "id": "89e90238",
   "metadata": {},
   "outputs": [
    {
     "name": "stdout",
     "output_type": "stream",
     "text": [
      "Original array:\n",
      "[[ 1  2  3  4]\n",
      " [ 5  6  7  8]\n",
      " [ 9 10 11 12]\n",
      " [13 14 15 16]]\n",
      "Row-wise sum:\n",
      "[10 26 42 58]\n",
      "Column-wise sum:\n",
      "[28 32 36 40]\n"
     ]
    }
   ],
   "source": [
    "## Create a NumPy array of shape (4, 4) with values from 1 to 16\n",
    "array = np.arange(1, 17).reshape(4, 4)\n",
    "print(\"Original array:\")\n",
    "print(array)\n",
    "\n",
    "## To Compute the row-wise and column-wise sum\n",
    "row_sum = np.sum(array, axis = 1)\n",
    "column_sum = np.sum(array, axis = 0)\n",
    "\n",
    "print(\"Row-wise sum:\")\n",
    "print(row_sum)\n",
    "print(\"Column-wise sum:\")\n",
    "print(column_sum)"
   ]
  },
  {
   "cell_type": "markdown",
   "id": "9478f1dd",
   "metadata": {},
   "source": [
    "### Assignment 4: Statistical Operations\n",
    "\n",
    "1. Create a NumPy array of shape (5, 5) filled with random integers. Compute the mean, median, standard deviation, and variance of the array."
   ]
  },
  {
   "cell_type": "code",
   "execution_count": 9,
   "id": "c4d655ca",
   "metadata": {},
   "outputs": [
    {
     "name": "stdout",
     "output_type": "stream",
     "text": [
      "Original array:\n",
      "[[20 20  7 20 17]\n",
      " [ 5 13 12  6 17]\n",
      " [ 2  2 18 18  3]\n",
      " [ 2 14 18 13 19]\n",
      " [12 16 12 12 20]]\n",
      "Mean: 12.72\n",
      "Median: 13.0\n",
      "Standard Deviation: 6.20657715653322\n",
      "Variance: 38.5216\n"
     ]
    }
   ],
   "source": [
    "## To Create a NumPy array of shape (5, 5) filled with random integers\n",
    "array = np.random.randint(1, 21, size=(5, 5))\n",
    "print(\"Original array:\")\n",
    "print(array)\n",
    "\n",
    "## Compute the statistical values\n",
    "mean = np.mean(array) \n",
    "median = np.median(array)\n",
    "std_dev = np.std(array)\n",
    "variance = np.var(array)\n",
    "\n",
    "print(\"Mean:\", mean)\n",
    "print(\"Median:\", median)\n",
    "print(\"Standard Deviation:\", std_dev)\n",
    "print(\"Variance:\", variance)"
   ]
  },
  {
   "cell_type": "markdown",
   "id": "d27b62e0",
   "metadata": {},
   "source": [
    "2. Create a NumPy array of shape (3, 3) with values from 1 to 9. Normalize the array (i.e., scale the values to have a mean of 0 and a standard deviation of 1)."
   ]
  },
  {
   "cell_type": "code",
   "execution_count": 10,
   "id": "d2daab0f",
   "metadata": {},
   "outputs": [
    {
     "name": "stdout",
     "output_type": "stream",
     "text": [
      "Original array:\n",
      "[[1 2 3]\n",
      " [4 5 6]\n",
      " [7 8 9]]\n",
      "Normalized array:\n",
      "[[-1.54919334 -1.161895   -0.77459667]\n",
      " [-0.38729833  0.          0.38729833]\n",
      " [ 0.77459667  1.161895    1.54919334]]\n"
     ]
    }
   ],
   "source": [
    "## To Create a NumPy array of shape (3, 3) with values from 1 to 9\n",
    "array = np.arange(1, 10).reshape((3, 3))\n",
    "print(\"Original array:\")\n",
    "print(array)\n",
    "\n",
    "## To Normalize the array\n",
    "mean = np.mean(array)\n",
    "std_dev = np.std(array)\n",
    "normalized_array = (array - mean) / std_dev\n",
    "\n",
    "print(\"Normalized array:\")\n",
    "print(normalized_array)"
   ]
  },
  {
   "cell_type": "markdown",
   "id": "63947580",
   "metadata": {},
   "source": [
    "### Assignment 5: Broadcasting\n",
    "\n",
    "1. Create a NumPy array of shape (3, 3) filled with random integers. Add a 1D array of shape (3,) to each row of the 2D array using broadcasting."
   ]
  },
  {
   "cell_type": "code",
   "execution_count": 11,
   "id": "0be68d92",
   "metadata": {},
   "outputs": [
    {
     "name": "stdout",
     "output_type": "stream",
     "text": [
      "Original array:\n",
      "[[4 2 4]\n",
      " [4 4 4]\n",
      " [3 3 1]]\n",
      "1D array:\n",
      "[1 4 1]\n",
      "Resulting array:\n",
      "[[5 6 5]\n",
      " [5 8 5]\n",
      " [4 7 2]]\n"
     ]
    }
   ],
   "source": [
    "## To Create a NumPy array of shape (3, 3) filled with random integers\n",
    "array = np.random.randint(1, 5, size=(3, 3))\n",
    "row_array = np.random.randint(1, 5, size=(3,))\n",
    "print(\"Original array:\")\n",
    "print(array)\n",
    "print(\"1D array:\")\n",
    "print(row_array)\n",
    "\n",
    "## Add the 1D array to each row of the 2D array using broadcasting\n",
    "result = array + row_array\n",
    "print(\"Resulting array:\")\n",
    "print(result)"
   ]
  },
  {
   "cell_type": "markdown",
   "id": "3808d5d4",
   "metadata": {},
   "source": [
    "2. Create a NumPy array of shape (4, 4) filled with random integers. Subtract a 1D array of shape (4,) from each column of the 2D array using broadcasting."
   ]
  },
  {
   "cell_type": "code",
   "execution_count": 12,
   "id": "b72b4c07",
   "metadata": {},
   "outputs": [
    {
     "name": "stdout",
     "output_type": "stream",
     "text": [
      "Original array:\n",
      "[[2 4 3 6]\n",
      " [2 5 3 1]\n",
      " [4 3 3 2]\n",
      " [5 6 2 4]]\n",
      "1D array:\n",
      "[4 3 2 3]\n",
      "Resulting array:\n",
      "[[-2  0 -1  2]\n",
      " [-1  2  0 -2]\n",
      " [ 2  1  1  0]\n",
      " [ 2  3 -1  1]]\n"
     ]
    }
   ],
   "source": [
    "## To Create a NumPy array of shape (4, 4) filled with random integers\n",
    "array = np.random.randint(1, 7, size=(4, 4))\n",
    "column_array = np.random.randint(1, 7, size=(4,))\n",
    "print(\"Original array:\")\n",
    "print(array)\n",
    "print(\"1D array:\")\n",
    "print(column_array)\n",
    "\n",
    "## To Subtract the 1D array from each column of the 2D array using broadcasting\n",
    "result = array - column_array[:, None] # array - column_array[:, np.newaxis]\n",
    "print(\"Resulting array:\")\n",
    "print(result)"
   ]
  },
  {
   "cell_type": "markdown",
   "id": "3153ce6d",
   "metadata": {},
   "source": [
    "### Assignment 6: Linear Algebra\n",
    "\n",
    "1. Create a NumPy array of shape (3, 3) representing a matrix. Compute its determinant, inverse, and eigenvalues."
   ]
  },
  {
   "cell_type": "code",
   "execution_count": 13,
   "id": "3c518d1e",
   "metadata": {},
   "outputs": [
    {
     "name": "stdout",
     "output_type": "stream",
     "text": [
      "Original matrix:\n",
      "[[13 38 14]\n",
      " [10 11 48]\n",
      " [24 35 25]]\n",
      "Determinant: 17215.0\n",
      "Inverse:\n",
      "[[-0.08161487 -0.02672088  0.09700842]\n",
      " [ 0.05239617 -0.00063898 -0.02811502]\n",
      " [ 0.00499564  0.02654662 -0.01376706]]\n",
      "Eigenvalues: [ 74.34773872+0.j         -12.67386936+8.42140672j\n",
      " -12.67386936-8.42140672j]\n"
     ]
    }
   ],
   "source": [
    "## To Create a NumPy array of shape (3, 3) representing a matrix\n",
    "matrix = np.random.randint(1, 50, size=(3, 3))\n",
    "print(\"Original matrix:\")\n",
    "print(matrix)\n",
    "\n",
    "## To Compute the determinant\n",
    "det = np.linalg.det(matrix)\n",
    "print(\"Determinant:\", det)\n",
    "\n",
    "## To Compute the inverse\n",
    "inverse = np.linalg.inv(matrix)\n",
    "print(\"Inverse:\")\n",
    "print(inverse)\n",
    "\n",
    "## Compute the eigenvalues\n",
    "e_values = np.linalg.eigvals(matrix)\n",
    "print(\"Eigenvalues:\", e_values)"
   ]
  },
  {
   "cell_type": "markdown",
   "id": "0f8d7f13",
   "metadata": {},
   "source": [
    "2. Create two NumPy arrays of shape (2, 3) and (3, 2). Perform matrix multiplication on these arrays."
   ]
  },
  {
   "cell_type": "code",
   "execution_count": 14,
   "id": "ea5b0fa3",
   "metadata": {},
   "outputs": [
    {
     "name": "stdout",
     "output_type": "stream",
     "text": [
      "Array 1:\n",
      "[[1 2 3]\n",
      " [4 5 6]]\n",
      "Array 2:\n",
      "[[1 2]\n",
      " [3 4]\n",
      " [5 6]]\n",
      "Matrix multiplication result:\n",
      "[[22 28]\n",
      " [49 64]]\n"
     ]
    }
   ],
   "source": [
    "## To Create two NumPy arrays of shape (2, 3) and (3, 2)\n",
    "array1 = np.arange(1, 7).reshape(2, 3)\n",
    "array2 = np.arange(1, 7).reshape(3, 2)\n",
    "print(\"Array 1:\")\n",
    "print(array1)\n",
    "print(\"Array 2:\")\n",
    "print(array2)\n",
    "\n",
    "## To Perform matrix multiplication\n",
    "result = np.dot(array1, array2)             # result = np.matmul(array1, array2)\n",
    "print(\"Matrix multiplication result:\")\n",
    "print(result)"
   ]
  },
  {
   "cell_type": "markdown",
   "id": "38dffd28",
   "metadata": {},
   "source": [
    "### Assignment 7: Advanced Array Manipulation\n",
    "\n",
    "1. Create a NumPy array of shape (3, 3) with values from 1 to 9. Reshape the array to shape (1, 9) and then to shape (9, 1)."
   ]
  },
  {
   "cell_type": "code",
   "execution_count": 15,
   "id": "41db2429",
   "metadata": {},
   "outputs": [
    {
     "name": "stdout",
     "output_type": "stream",
     "text": [
      "Original array:\n",
      "[[1 2 3]\n",
      " [4 5 6]\n",
      " [7 8 9]]\n",
      "Reshaped array (1, 9):\n",
      "[[1 2 3 4 5 6 7 8 9]]\n",
      "Reshaped array (9, 1):\n",
      "[[1]\n",
      " [2]\n",
      " [3]\n",
      " [4]\n",
      " [5]\n",
      " [6]\n",
      " [7]\n",
      " [8]\n",
      " [9]]\n"
     ]
    }
   ],
   "source": [
    "# Create a NumPy array of shape (3, 3) with values from 1 to 9\n",
    "array = np.arange(1, 10).reshape((3, 3))\n",
    "print(\"Original array:\")\n",
    "print(array)\n",
    "\n",
    "## To Reshape the array to shape (1, 9)\n",
    "reshaped_array_1 = array.reshape((1,9))\n",
    "print(\"Reshaped array (1, 9):\")\n",
    "print(reshaped_array_1)\n",
    "\n",
    "# Reshape the array to shape (9, 1)\n",
    "reshaped_array_2 = reshaped_array_1.reshape((9,1))\n",
    "print(\"Reshaped array (9, 1):\")\n",
    "print(reshaped_array_2)"
   ]
  },
  {
   "cell_type": "markdown",
   "id": "a79184e2",
   "metadata": {},
   "source": [
    "2. Create a NumPy array of shape (5, 5) filled with random integers. Flatten the array and then reshape it back to (5, 5)."
   ]
  },
  {
   "cell_type": "code",
   "execution_count": 16,
   "id": "d5a6b658",
   "metadata": {},
   "outputs": [
    {
     "name": "stdout",
     "output_type": "stream",
     "text": [
      "Original array:\n",
      "[[26 19 44  4 32]\n",
      " [41 11 45  4 36]\n",
      " [17 34 28 25 11]\n",
      " [49 44 38 46 24]\n",
      " [14 32 15 25 48]]\n",
      "Flattened array:\n",
      "[26 19 44  4 32 41 11 45  4 36 17 34 28 25 11 49 44 38 46 24 14 32 15 25\n",
      " 48]\n",
      "Reshaped array:\n",
      "[[26 19 44  4 32]\n",
      " [41 11 45  4 36]\n",
      " [17 34 28 25 11]\n",
      " [49 44 38 46 24]\n",
      " [14 32 15 25 48]]\n"
     ]
    }
   ],
   "source": [
    "## To Create a NumPy array of shape (5, 5) filled with random integers\n",
    "array = np.random.randint(1, 50, size=(5, 5))\n",
    "print(\"Original array:\")\n",
    "print(array)\n",
    "\n",
    "## To Flatten the array\n",
    "flattened_array = array.flatten()   # array.reshape(-1)\n",
    "print(\"Flattened array:\")\n",
    "print(flattened_array)\n",
    "\n",
    "## To Reshape the array back to (5, 5)\n",
    "reshaped_array = flattened_array.reshape(5, 5)\n",
    "print(\"Reshaped array:\")\n",
    "print(reshaped_array)"
   ]
  },
  {
   "cell_type": "markdown",
   "id": "02315e35",
   "metadata": {},
   "source": [
    "### Assignment 8: Fancy Indexing and Boolean Indexing\n",
    "\n",
    "1. Create a NumPy array of shape (5, 5) filled with random integers. Use fancy indexing to extract the elements at the corners of the array."
   ]
  },
  {
   "cell_type": "code",
   "execution_count": 24,
   "id": "dd5ec250",
   "metadata": {},
   "outputs": [
    {
     "name": "stdout",
     "output_type": "stream",
     "text": [
      "Original array:\n",
      "[[18 11 15 12 10]\n",
      " [18 19 15 18 16]\n",
      " [16 17 19 13 15]\n",
      " [11 16 17 19 18]\n",
      " [10 10 10 10 12]]\n",
      "Corner elements:\n",
      "[18 10 10 12]\n"
     ]
    }
   ],
   "source": [
    "## To Create a NumPy array of shape (5, 5) filled with random integers\n",
    "array = np.random.randint(10, 20, size=(5, 5))\n",
    "print(\"Original array:\")\n",
    "print(array)\n",
    "\n",
    "## To Use fancy indexing to extract the elements at the corners of the array\n",
    "corners = array[[0, 0, -1, -1], [0, -1, 0, -1]]\n",
    "print(\"Corner elements:\")\n",
    "print(corners)"
   ]
  },
  {
   "cell_type": "markdown",
   "id": "cb6cc6c9",
   "metadata": {},
   "source": [
    "2. Create a NumPy array of shape (4, 4) filled with random integers. Use boolean indexing to set all elements greater than 10 to 10."
   ]
  },
  {
   "cell_type": "code",
   "execution_count": 26,
   "id": "0fa4ff20",
   "metadata": {},
   "outputs": [
    {
     "name": "stdout",
     "output_type": "stream",
     "text": [
      "Original array:\n",
      "[[ 2 18  6  3]\n",
      " [ 3 12  9 17]\n",
      " [ 4  4  5  1]\n",
      " [13 18  6 13]]\n",
      "Modified array:\n",
      "[[ 2 10  6  3]\n",
      " [ 3 10  9 10]\n",
      " [ 4  4  5  1]\n",
      " [10 10  6 10]]\n"
     ]
    }
   ],
   "source": [
    "## To Create a NumPy array of shape (4, 4) filled with random integers\n",
    "array = np.random.randint(1, 21, size=(4, 4))\n",
    "print(\"Original array:\")\n",
    "print(array)\n",
    "\n",
    "#E To Use boolean indexing to set all elements greater than 10 to 10\n",
    "boolean_mask = array > 10\n",
    "array[boolean_mask] = 10\n",
    "print(\"Modified array:\")\n",
    "print(array)"
   ]
  },
  {
   "cell_type": "markdown",
   "id": "a0a26041",
   "metadata": {},
   "source": [
    "### Assignment 9: Structured Arrays\n",
    "\n",
    "1. Create a structured array with fields 'name' (string), 'age' (integer), and 'weight' (float). Add some data and sort the array by age."
   ]
  },
  {
   "cell_type": "code",
   "execution_count": 30,
   "id": "0cd643ea",
   "metadata": {},
   "outputs": [
    {
     "name": "stdout",
     "output_type": "stream",
     "text": [
      "Original array:\n",
      "[('ram', 25, 55.5) ('shyam', 30, 85.3) ('hari', 20, 65.2)]\n",
      "Sorted array by age:\n",
      "[('hari', 20, 65.2) ('ram', 25, 55.5) ('shyam', 30, 85.3)]\n"
     ]
    }
   ],
   "source": [
    "## To Create a structured array with fields 'name', 'age', and 'weight'\n",
    "data_type = [(\"name\", (np.str_, 20)), (\"age\", np.int32), (\"weight\", np.float64)]\n",
    "\n",
    "# data_type = [('name', 'U10'), ('age', 'i4'), ('weight', 'f4')]\n",
    "\n",
    "data = np.array([(\"ram\", 25, 55.5), (\"shyam\", 30, 85.3), (\"hari\", 20, 65.2)], dtype=data_type)\n",
    "print(\"Original array:\")\n",
    "print(data)\n",
    "\n",
    "## To Sort the array by age\n",
    "sorted_data = np.sort(data, order = \"age\")\n",
    "print(\"Sorted array by age:\")\n",
    "print(sorted_data)\n"
   ]
  },
  {
   "cell_type": "markdown",
   "id": "466e0d4c",
   "metadata": {},
   "source": [
    "2. Create a structured array with fields 'x' and 'y' (both integers). Add some data and compute the Euclidean distance between each pair of points."
   ]
  },
  {
   "cell_type": "code",
   "execution_count": 37,
   "id": "6190f06e",
   "metadata": {},
   "outputs": [
    {
     "name": "stdout",
     "output_type": "stream",
     "text": [
      "Original array:\n",
      "[(1, 10) (2, 20) (3, 30) (4, 40)]\n",
      "Euclidean distances:\n",
      "[[ 0.         10.04987562 20.09975124 30.14962686]\n",
      " [10.04987562  0.         10.04987562 20.09975124]\n",
      " [20.09975124 10.04987562  0.         10.04987562]\n",
      " [30.14962686 20.09975124 10.04987562  0.        ]]\n"
     ]
    }
   ],
   "source": [
    "## To Create a structured array with fields 'x' and 'y'\n",
    "data_type = [(\"x\", np.int32), (\"y\", np.int32)]\n",
    "\n",
    "#data_type = [('x', 'i4'), ('y', 'i4')]\n",
    "\n",
    "data = np.array([(1, 10), (2, 20), (3, 30), (4, 40)], dtype=data_type)\n",
    "print(\"Original array:\")\n",
    "print(data)\n",
    "\n",
    "## Compute the Euclidean distance between each pair of points\n",
    "distances = np.sqrt((data[\"x\"][:, np.newaxis] -data[\"x\"])**2 + (data[\"y\"][:,np.newaxis] - data[\"y\"])**2)\n",
    "print(\"Euclidean distances:\")\n",
    "print(distances)\n"
   ]
  },
  {
   "cell_type": "markdown",
   "id": "7683aba1",
   "metadata": {},
   "source": [
    "### Assignment 10: Masked Arrays\n",
    "\n",
    "1. Create a masked array of shape (4, 4) with random integers and mask the elements greater than 10. Compute the sum of the unmasked elements."
   ]
  },
  {
   "cell_type": "code",
   "execution_count": 39,
   "id": "cc791ee1",
   "metadata": {},
   "outputs": [
    {
     "name": "stdout",
     "output_type": "stream",
     "text": [
      "Original array:\n",
      "[[11 20  2 11]\n",
      " [ 7  8  4  9]\n",
      " [ 8 13 12 12]\n",
      " [10  4 19  6]]\n",
      "Masked array:\n",
      "[[-- -- 2 --]\n",
      " [7 8 4 9]\n",
      " [8 -- -- --]\n",
      " [10 4 -- 6]]\n",
      "Sum of unmasked elements: 58\n"
     ]
    }
   ],
   "source": [
    "import numpy.ma as ma\n",
    "\n",
    "## To Create a masked array of shape (4, 4) with random integers\n",
    "array = np.random.randint(1, 21, size=(4, 4))\n",
    "masked_array = ma.masked_array(array, mask= (array > 10))\n",
    "print(\"Original array:\")\n",
    "print(array)\n",
    "print(\"Masked array:\")\n",
    "print(masked_array)\n",
    "\n",
    "## To Compute the sum of the unmasked elements\n",
    "sum_unmasked = masked_array.sum()\n",
    "print(\"Sum of unmasked elements:\", sum_unmasked)"
   ]
  },
  {
   "cell_type": "markdown",
   "id": "9a157603",
   "metadata": {},
   "source": [
    "2. Create a masked array of shape (3, 3) with random integers and mask the diagonal elements. Replace the masked elements with the mean of the unmasked elements."
   ]
  },
  {
   "cell_type": "code",
   "execution_count": 42,
   "id": "1d56ceb3",
   "metadata": {},
   "outputs": [
    {
     "name": "stdout",
     "output_type": "stream",
     "text": [
      "Original array:\n",
      "[[15 14  5]\n",
      " [18  9 17]\n",
      " [13  2 13]]\n",
      "Masked array:\n",
      "[[-- 14 5]\n",
      " [18 -- 17]\n",
      " [13 2 --]]\n",
      "Modified masked array:\n",
      "[[11 14  5]\n",
      " [18 11 17]\n",
      " [13  2 11]]\n"
     ]
    }
   ],
   "source": [
    "# Create a masked array of shape (3, 3) with random integers\n",
    "array = np.random.randint(1, 21, size=(3, 3))\n",
    "masked_array = ma.masked_array(array, mask = np.eye(3, dtype=bool))\n",
    "print(\"Original array:\")\n",
    "print(array)\n",
    "print(\"Masked array:\")\n",
    "print(masked_array)\n",
    "\n",
    "# Replace the masked elements with the mean of the unmasked elements\n",
    "mean_unmasked = masked_array.mean()\n",
    "masked_array = masked_array.filled(mean_unmasked)\n",
    "print(\"Modified masked array:\")\n",
    "print(masked_array)\n",
    "\n"
   ]
  }
 ],
 "metadata": {
  "kernelspec": {
   "display_name": "base",
   "language": "python",
   "name": "python3"
  },
  "language_info": {
   "codemirror_mode": {
    "name": "ipython",
    "version": 3
   },
   "file_extension": ".py",
   "mimetype": "text/x-python",
   "name": "python",
   "nbconvert_exporter": "python",
   "pygments_lexer": "ipython3",
   "version": "3.12.4"
  }
 },
 "nbformat": 4,
 "nbformat_minor": 5
}
